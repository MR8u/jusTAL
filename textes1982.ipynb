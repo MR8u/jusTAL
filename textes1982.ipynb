{
 "cells": [
  {
   "cell_type": "code",
   "execution_count": 2,
   "metadata": {},
   "outputs": [],
   "source": [
    "import glob\n",
    "import re\n",
    "import pandas as pd"
   ]
  },
  {
   "cell_type": "code",
   "execution_count": 3,
   "metadata": {},
   "outputs": [],
   "source": [
    "liste = [name for name in glob.glob('Texte 1982/*')]"
   ]
  },
  {
   "cell_type": "code",
   "execution_count": 20,
   "metadata": {},
   "outputs": [],
   "source": [
    "liste_div = []\n",
    "for el in liste:\n",
    "    with open(el, encoding='utf-8') as f:\n",
    "        texte = f.read()\n",
    "    divs =re.findall('<div.+?>', texte)\n",
    "    for div in divs:\n",
    "        dic = {'doc':el[11:-4]}\n",
    "        dic['div'] = re.search('div.?', div).group()\n",
    "        res = re.search('(type ?=\")(.*?)(\" |\">)', div)\n",
    "        if res:\n",
    "            res = res.group(2)\n",
    "        dic['type'] = res\n",
    "        liste_div.append(dic)\n",
    "\n",
    "df_div = pd.DataFrame(liste_div)"
   ]
  },
  {
   "cell_type": "code",
   "execution_count": null,
   "metadata": {},
   "outputs": [],
   "source": [
    "df_div"
   ]
  },
  {
   "cell_type": "code",
   "execution_count": null,
   "metadata": {},
   "outputs": [],
   "source": [
    "df_div.to_csv('div.csv', index=False)"
   ]
  },
  {
   "cell_type": "code",
   "execution_count": 23,
   "metadata": {},
   "outputs": [],
   "source": [
    "liste_h = []\n",
    "for el in liste:\n",
    "    with open(el, encoding='utf-8') as f:\n",
    "        texte = f.read()\n",
    "    hs = re.findall('h[0-9]+', texte)\n",
    "    for h in hs:\n",
    "        dic = {'doc':el[11:-4], 'h':h}\n",
    "        liste_h.append(dic)\n",
    "df_h = pd.DataFrame(liste_h)"
   ]
  },
  {
   "cell_type": "code",
   "execution_count": null,
   "metadata": {},
   "outputs": [],
   "source": [
    "df_h"
   ]
  },
  {
   "cell_type": "code",
   "execution_count": null,
   "metadata": {},
   "outputs": [],
   "source": [
    "df_h.to_csv('H.csv', index=False)"
   ]
  }
 ],
 "metadata": {
  "kernelspec": {
   "display_name": "Python 3",
   "language": "python",
   "name": "python3"
  },
  "language_info": {
   "codemirror_mode": {
    "name": "ipython",
    "version": 3
   },
   "file_extension": ".py",
   "mimetype": "text/x-python",
   "name": "python",
   "nbconvert_exporter": "python",
   "pygments_lexer": "ipython3",
   "version": "3.9.1"
  },
  "orig_nbformat": 4
 },
 "nbformat": 4,
 "nbformat_minor": 2
}
