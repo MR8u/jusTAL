{
 "cells": [
  {
   "cell_type": "code",
   "execution_count": 124,
   "metadata": {},
   "outputs": [],
   "source": [
    "from bs4 import BeautifulSoup\n",
    "from pathlib import Path\n",
    "from src.preprocess import fix_text\n",
    "import pandas as pd\n",
    "import spacy\n",
    "import re\n",
    "import xml.etree.ElementTree as ET"
   ]
  },
  {
   "cell_type": "code",
   "execution_count": 25,
   "metadata": {},
   "outputs": [],
   "source": [
    "nlp = spacy.load(\"fr_core_news_sm\")"
   ]
  },
  {
   "cell_type": "code",
   "execution_count": null,
   "metadata": {},
   "outputs": [],
   "source": [
    "def tokenize_xml(xml_code):\n",
    "    tokens = []\n",
    "    root = ET.fromstring(xml_code)\n",
    "    _tokenize_element(root, tokens)\n",
    "    return tokens\n",
    "\n",
    "def _tokenize_element(element, tokens):\n",
    "    tag = \"<\" + element.tag + (\" \" + ' '.join(f'{attr}=\"{value}\"' for attr, value in element.attrib.items()) if len(element.attrib)>0 else '') + \">\"\n",
    "    tokens.append(tag)  # Start tag\n",
    "    if element.text and element.text.strip():\n",
    "        tokens.extend(el.text for el in nlp(element.text.strip())) # String value\n",
    "    for child in element:\n",
    "        if child.tag == ET.Comment:\n",
    "            pass  # Comment\n",
    "        else:\n",
    "            _tokenize_element(child, tokens)  # Recursive call for child elements\n",
    "    tokens.append(\"</\" + element.tag + \">\")  # End tag"
   ]
  },
  {
   "cell_type": "code",
   "execution_count": 131,
   "metadata": {},
   "outputs": [],
   "source": [
    "PATH = Path('.data/text_tests/')\n",
    "# PATH = Path('D:/Users/subje/Documents/GitHub/jusTAL/.data/text_termines')"
   ]
  },
  {
   "cell_type": "code",
   "execution_count": 132,
   "metadata": {},
   "outputs": [],
   "source": [
    "texts = []\n",
    "for path in PATH.glob('*.xml'):\n",
    "    for disc in BeautifulSoup(fix_text(path.read_text(encoding='utf-8')), features='xml').findAll(attrs={'type':'discussion'}):\n",
    "        texts.append((disc, path.stem))\n",
    "    # texts.append((BeautifulSoup(path.read_text(encoding='utf-8'), features='xml').find('body').text, path.stem))\n",
    "df = pd.DataFrame(texts, columns=['text', 'id'])"
   ]
  },
  {
   "cell_type": "code",
   "execution_count": 187,
   "metadata": {},
   "outputs": [],
   "source": [
    "tab = []\n",
    "len_words = -1\n",
    "for m, text in enumerate(df.text[:2]):\n",
    "    tokens = tokenize_xml(str(text))\n",
    "    i=0\n",
    "    # print(f'#Text={\" \".join(tokens)}')\n",
    "    tab.append(f'\\r\\r#Text={\" \".join(tokens)}')\n",
    "    cur_speaker = '_'\n",
    "    for n, token in enumerate(tokens):\n",
    "        # print(f'{m+1}-{n+1}\\t{i}-{i+len(token)}\\t{token}')\n",
    "        speaker = target = value = relation = spk_trgt = '_'\n",
    "        if re.search('<u who=', token):\n",
    "            # print(re.findall('who=\"#(.*?)\"', token))\n",
    "            speaker = True\n",
    "            value = 'PERSON'\n",
    "            cur_speaker = f'{m+1}-{n+1}'\n",
    "        if re.search('<span ana', token):\n",
    "            # print(re.findall('ana=\"#(.*?)\"', token))\n",
    "            target = True\n",
    "            value = 'PERSON'\n",
    "            relation = 'NULL'\n",
    "            spk_trgt = cur_speaker\n",
    "        tab.append(f'\\r{m+1}-{n+1}\\t{len_words+1}-{len_words+len(token)+1}\\t{token}\\t{str(speaker)}\\t{str(target)}\\t{value}\\t{relation}\\t{spk_trgt}')\n",
    "        len_words+=len(token)+1"
   ]
  },
  {
   "cell_type": "code",
   "execution_count": 188,
   "metadata": {},
   "outputs": [],
   "source": [
    "with open('D:/Users/subje/Desktop/dddddd.tsv', 'w') as f:\n",
    "    f.write('#FORMAT=WebAnno TSV 3.3\\r')\n",
    "    f.write('#T_SP=webanno.custom.JusTALNER|isSpeaker|isTarget|value_ner\\r')\n",
    "    f.write('#T_RL=webanno.custom.JusTALREL|value_rel|BT_webanno.custom.JusTALNER\\r')\n",
    "    for line in tab:\n",
    "            f.write(line)"
   ]
  }
 ],
 "metadata": {
  "kernelspec": {
   "display_name": "justal",
   "language": "python",
   "name": "python3"
  },
  "language_info": {
   "codemirror_mode": {
    "name": "ipython",
    "version": 3
   },
   "file_extension": ".py",
   "mimetype": "text/x-python",
   "name": "python",
   "nbconvert_exporter": "python",
   "pygments_lexer": "ipython3",
   "version": "3.10.11"
  },
  "orig_nbformat": 4
 },
 "nbformat": 4,
 "nbformat_minor": 2
}
