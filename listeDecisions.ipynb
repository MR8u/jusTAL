{
 "cells": [
  {
   "cell_type": "code",
   "execution_count": 1,
   "metadata": {},
   "outputs": [],
   "source": [
    "import pandas as pd"
   ]
  },
  {
   "cell_type": "code",
   "execution_count": 2,
   "metadata": {},
   "outputs": [],
   "source": [
    "df = pd.read_excel('D:\\Downloads\\Titres des décisions et identifiant.xlsx')"
   ]
  },
  {
   "cell_type": "code",
   "execution_count": null,
   "metadata": {},
   "outputs": [],
   "source": [
    "print('<taxonomy xml:id=\"decision\">')\n",
    "for l in df.iloc:\n",
    "    print(f'\\t<category xml:id=\"{l[\"type_DC\"][:-1]}-{l[\"num_DC\"][:-1]}\">')\n",
    "    print('\\t\\t<catDesc>')\n",
    "    print(f'\\t\\t\\t<term>{l[\"titre\"]}</term>')\n",
    "    print(f'\\t\\t\\t<gloss>{l[\"titre_complet\"]}</gloss>')\n",
    "    print('\\t\\t</catDesc>')\n",
    "    print('\\t</category>')\n",
    "print('</taxonomy>')"
   ]
  },
  {
   "cell_type": "code",
   "execution_count": null,
   "metadata": {},
   "outputs": [],
   "source": [
    "print('<taxonomy xml:id=\"deliberation\">')\n",
    "for l in df[\"n°PV\"].unique():\n",
    "    print(f'\\t<category xml:id=\"{l}\"></category>')\n",
    "print('</taxonomy>')"
   ]
  }
 ],
 "metadata": {
  "kernelspec": {
   "display_name": "Python 3",
   "language": "python",
   "name": "python3"
  },
  "language_info": {
   "codemirror_mode": {
    "name": "ipython",
    "version": 3
   },
   "file_extension": ".py",
   "mimetype": "text/x-python",
   "name": "python",
   "nbconvert_exporter": "python",
   "pygments_lexer": "ipython3",
   "version": "3.9.1"
  },
  "orig_nbformat": 4
 },
 "nbformat": 4,
 "nbformat_minor": 2
}
