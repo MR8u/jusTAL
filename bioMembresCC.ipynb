{
 "cells": [
  {
   "cell_type": "code",
   "execution_count": 13,
   "metadata": {},
   "outputs": [],
   "source": [
    "import requests\n",
    "from bs4 import BeautifulSoup\n",
    "import re\n",
    "from tqdm import tqdm\n",
    "import json"
   ]
  },
  {
   "cell_type": "code",
   "execution_count": 5,
   "metadata": {},
   "outputs": [],
   "source": [
    "page = requests.get(\"https://www.conseil-constitutionnel.fr/les-membres-depuis-1959\")"
   ]
  },
  {
   "cell_type": "code",
   "execution_count": 6,
   "metadata": {},
   "outputs": [],
   "source": [
    "membres = re.findall(\"(?:/membres/)([a-z\\-]*)\",str(page.content))"
   ]
  },
  {
   "cell_type": "code",
   "execution_count": 7,
   "metadata": {},
   "outputs": [
    {
     "name": "stderr",
     "output_type": "stream",
     "text": [
      "100%|██████████| 89/89 [00:31<00:00,  2.80it/s]\n"
     ]
    }
   ],
   "source": [
    "listeMembres2 = []\n",
    "\n",
    "for membre in tqdm(membres):\n",
    "    page = requests.get(f'https://www.conseil-constitutionnel.fr/membres/{membre}')\n",
    "    soup = BeautifulSoup(page.content, 'html.parser')\n",
    "    pers = {}\n",
    "\n",
    "    nom = soup.find('h1', {'class':'title'})\n",
    "    bio = soup.find('div',{'class':re.compile('naissance')})\n",
    "    typeMembre = soup.find('div',{'class':re.compile('type-membre')})\n",
    "    fonction = soup.find('div',{'class':re.compile('fonction')})\n",
    "    nomination = soup.find('div',{'class':re.compile('nomination')})\n",
    "    serment = soup.find('div',{'class':re.compile('serment')})\n",
    "    for el,val in {'nom':nom,'bio':bio,'typeMembre':typeMembre,'fonctionDebut':fonction,'nomination':nomination,'serment':serment}.items():\n",
    "        if val:\n",
    "            pers[el]=val.getText()\n",
    "\n",
    "    listeMembres2.append(pers)\n",
    "\n",
    "#listeMembres2"
   ]
  },
  {
   "cell_type": "code",
   "execution_count": 17,
   "metadata": {},
   "outputs": [],
   "source": [
    "# json.dumps(listeMembres2, ensure_ascii=False)\n",
    "with open('listeMembres2.json', 'w', encoding='utf8') as json_file:\n",
    "    json.dump(listeMembres2, json_file, ensure_ascii=False)"
   ]
  },
  {
   "cell_type": "code",
   "execution_count": 14,
   "metadata": {},
   "outputs": [],
   "source": [
    "with open('listeMembres2.json', encoding='utf-8') as fh:\n",
    "    listeMembres2 = json.load(fh)"
   ]
  },
  {
   "cell_type": "code",
   "execution_count": 15,
   "metadata": {},
   "outputs": [
    {
     "data": {
      "text/plain": [
       "'fr_FR'"
      ]
     },
     "execution_count": 15,
     "metadata": {},
     "output_type": "execute_result"
    }
   ],
   "source": [
    "from datetime import datetime\n",
    "import locale\n",
    "locale.setlocale(locale.LC_TIME,'fr_FR')"
   ]
  },
  {
   "cell_type": "code",
   "execution_count": 16,
   "metadata": {},
   "outputs": [],
   "source": [
    "def transfoDate(date:str):\n",
    "    try:\n",
    "        dateRe = str(datetime.date(datetime.strptime(re.sub('(1)er',r'\\1',date), \"%d %B %Y\")))\n",
    "        return dateRe\n",
    "    except:\n",
    "        print(date)\n",
    "        return date"
   ]
  },
  {
   "cell_type": "code",
   "execution_count": null,
   "metadata": {},
   "outputs": [],
   "source": [
    "listeMembres3 = []\n",
    "regex = '[0-9]{0,2}[er]* [A-Za-zéèêàû]+ [0-9]{4}'\n",
    "\n",
    "for membre2 in tqdm(listeMembres2):\n",
    "    membre3={}\n",
    "\n",
    "    nomMO = re.search('([A-Z]{2,}.*)',membre2['nom'])\n",
    "    membre3['prenom']=membre2['nom'][:nomMO.start()-1]\n",
    "    membre3['nom']=membre2['nom'][nomMO.start():]\n",
    "\n",
    "    dates = re.findall(regex, membre2['bio'])\n",
    "    if len(dates)>1:\n",
    "        membre3['dateDeces'] = transfoDate(dates[-1])\n",
    "    membre3['dateNaissance'] = transfoDate(dates[0])\n",
    "    membre3['lieuNaissance'] = re.split('à |au |, ',membre2['bio'])[1].strip()\n",
    "\n",
    "    for el in [le for le in ['fonctionDebut','typeMembre','serment','nomination'] if le in membre2.keys()]:\n",
    "        contenu = re.findall(regex, membre2[el])\n",
    "        if contenu:\n",
    "            if len(contenu)>1:\n",
    "                membre3[f'{el}Debut']=transfoDate(contenu[0])\n",
    "                membre3[f'{el}Fin']=transfoDate(contenu[-1])\n",
    "            else:\n",
    "                membre3[el]=transfoDate(contenu[0])\n",
    "        else:\n",
    "            membre3[el]=membre2[el]\n",
    "\n",
    "    if all(x in ['serment'] for x in membre2.keys()):\n",
    "        membre3['nominationPar'] = re.split('par ',membre2['nomination'])[1]\n",
    "\n",
    "    listeMembres3.append(membre3)\n",
    "\n",
    "#listeMembres3"
   ]
  },
  {
   "cell_type": "code",
   "execution_count": 45,
   "metadata": {},
   "outputs": [],
   "source": [
    "with open('listeMembres3.json', 'w', encoding='utf8') as json_file:\n",
    "    json.dump(listeMembres3, json_file, ensure_ascii=False)"
   ]
  },
  {
   "cell_type": "code",
   "execution_count": 2,
   "metadata": {},
   "outputs": [],
   "source": [
    "import json\n",
    "import re\n",
    "from slugify import slugify"
   ]
  },
  {
   "cell_type": "code",
   "execution_count": 4,
   "metadata": {},
   "outputs": [],
   "source": [
    "with open('listeMembres3.json', encoding='utf-8') as fh:\n",
    "    listeMembres3 = json.load(fh)"
   ]
  },
  {
   "cell_type": "code",
   "execution_count": 10,
   "metadata": {},
   "outputs": [],
   "source": [
    "indent = 0\n",
    "tab = '\\t'\n",
    "\n",
    "with open('listeMembres3.xml', 'w', encoding='utf8') as file:\n",
    "    file.write(f'{tab*indent}<listPerson>\\r')\n",
    "    \n",
    "indent += 1\n",
    "for membre in listeMembres3:\n",
    "    if 'typeMembre' not in membre.keys():\n",
    "        membre['typeMembre']='membre'\n",
    "    else:\n",
    "        membre['typeMembre']=slugify(membre['typeMembre'])\n",
    "\n",
    "    s=f'{tab*indent}<person xml:id=\"{slugify(membre[\"nom\"])}_{slugify(membre[\"prenom\"])}\">\\r'\n",
    "    indent += 1\n",
    "    s+=f'{tab*indent}<persName>\\r'\n",
    "    indent += 1\n",
    "    s+=f'{tab*indent}<surname>{membre[\"nom\"].capitalize()}</surname>\\r'\n",
    "    s+=f'{tab*indent}<forename>{membre[\"prenom\"]}</forename>\\r'\n",
    "    indent -= 1\n",
    "    s+=f'{tab*indent}</persName>\\r'\n",
    "    s+=f'{tab*indent}<sex value=\"{membre[\"sexe\"]}\"/>\\r'\n",
    "\n",
    "    s+=f'{tab*indent}<birth when=\"{membre[\"dateNaissance\"]}\">\\r'\n",
    "    indent += 1\n",
    "    s+=f'{tab*indent}<placeName>{membre[\"lieuNaissance\"]}</placeName>\\r'\n",
    "    indent -= 1\n",
    "    s+=f'{tab*indent}</birth>\\r'\n",
    "\n",
    "    if 'dateDeces' in membre.keys():\n",
    "        s+=f'{tab*indent}<death when=\"{membre[\"dateDeces\"]}\"></death>\\r'\n",
    "\n",
    "    st= f'<affiliation role=\"{membre[\"typeMembre\"].lower()}\" ref=\"?\" from=\"{membre[\"fonctionDebut\"]}\"'\n",
    "    if 'fonctionFin' in membre.keys():\n",
    "        st+= f' to=\"{membre[\"fonctionFin\"]}\"'\n",
    "    s+=f'{tab*indent}{st}/>\\r'\n",
    "    indent -= 1\n",
    "    s+=f'{tab*indent}</person>\\r'\n",
    "\n",
    "    with open('listeMembres3.xml', 'a', encoding='utf8') as file:\n",
    "        file.write(s)\n",
    "indent-=1\n",
    "\n",
    "with open('listeMembres3.xml', 'a', encoding='utf8') as file:\n",
    "    file.write(f'{tab*indent}</listPerson>')"
   ]
  }
 ],
 "metadata": {
  "kernelspec": {
   "display_name": "base",
   "language": "python",
   "name": "python3"
  },
  "language_info": {
   "codemirror_mode": {
    "name": "ipython",
    "version": 3
   },
   "file_extension": ".py",
   "mimetype": "text/x-python",
   "name": "python",
   "nbconvert_exporter": "python",
   "pygments_lexer": "ipython3",
   "version": "3.9.13"
  },
  "orig_nbformat": 4,
  "vscode": {
   "interpreter": {
    "hash": "f9ab4607a8971d8aacfa005eb7ae05e10c11ea8f151c70981566922e0646747a"
   }
  }
 },
 "nbformat": 4,
 "nbformat_minor": 2
}
